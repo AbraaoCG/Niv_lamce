{
 "cells": [
  {
   "cell_type": "code",
   "execution_count": 112,
   "metadata": {},
   "outputs": [],
   "source": [
    "import numpy as np\n",
    "import pandas as pd\n",
    "import matplotlib.pyplot as plt"
   ]
  },
  {
   "cell_type": "code",
   "execution_count": null,
   "metadata": {},
   "outputs": [],
   "source": []
  },
  {
   "cell_type": "code",
   "execution_count": 138,
   "metadata": {},
   "outputs": [
    {
     "data": {
      "text/plain": [
       "''"
      ]
     },
     "execution_count": 138,
     "metadata": {},
     "output_type": "execute_result"
    }
   ],
   "source": [
    "filename = 'wave1d.disp00243'\n",
    "newLine = \"space VelCol1 None1 None2 VelCol2 None3 None4\"\n",
    "flag = 0\n",
    "stringfile = \"\"\n",
    "with open(filename, 'w') as fileO:\n",
    "        #fileO.write(newLine)\n",
    "        with open(filename, 'r') as fileI:\n",
    "            for line in fileI:\n",
    "                print(line)\n",
    "        flag = 1\n",
    "stringfile\n",
    "\n",
    "    "
   ]
  },
  {
   "cell_type": "code",
   "execution_count": 113,
   "metadata": {},
   "outputs": [
    {
     "name": "stdout",
     "output_type": "stream",
     "text": [
      "      VelCol1   VelCol2\n",
      "0    0.011220  0.054619\n",
      "1    0.041544  0.083891\n",
      "2    0.075747  0.092107\n",
      "3    0.086673  0.090440\n",
      "4    0.062838  0.066195\n",
      "..        ...       ...\n",
      "995  0.992830  1.009700\n",
      "996  0.988770  1.010900\n",
      "997  0.991470  1.004500\n",
      "998  1.000500  0.994840\n",
      "999  1.008500  0.990270\n",
      "\n",
      "[1000 rows x 2 columns]\n"
     ]
    }
   ],
   "source": [
    "\n",
    "wave1disp249 = pd.read_csv( filename , sep = ' ')\n",
    "wave1disp249.drop(columns = {'space' ,'None1','None2','None3','None4'}, axis = 1, inplace = True)\n",
    "print(wave1disp249)"
   ]
  },
  {
   "cell_type": "code",
   "execution_count": 114,
   "metadata": {},
   "outputs": [
    {
     "data": {
      "text/html": [
       "<div>\n",
       "<style scoped>\n",
       "    .dataframe tbody tr th:only-of-type {\n",
       "        vertical-align: middle;\n",
       "    }\n",
       "\n",
       "    .dataframe tbody tr th {\n",
       "        vertical-align: top;\n",
       "    }\n",
       "\n",
       "    .dataframe thead th {\n",
       "        text-align: right;\n",
       "    }\n",
       "</style>\n",
       "<table border=\"1\" class=\"dataframe\">\n",
       "  <thead>\n",
       "    <tr style=\"text-align: right;\">\n",
       "      <th></th>\n",
       "      <th>Efs</th>\n",
       "      <th>Veloc</th>\n",
       "    </tr>\n",
       "  </thead>\n",
       "  <tbody>\n",
       "    <tr>\n",
       "      <th>0</th>\n",
       "      <td>0</td>\n",
       "      <td>0.011220</td>\n",
       "    </tr>\n",
       "    <tr>\n",
       "      <th>1</th>\n",
       "      <td>1</td>\n",
       "      <td>0.054619</td>\n",
       "    </tr>\n",
       "    <tr>\n",
       "      <th>2</th>\n",
       "      <td>2</td>\n",
       "      <td>0.041544</td>\n",
       "    </tr>\n",
       "    <tr>\n",
       "      <th>3</th>\n",
       "      <td>3</td>\n",
       "      <td>0.083891</td>\n",
       "    </tr>\n",
       "    <tr>\n",
       "      <th>4</th>\n",
       "      <td>4</td>\n",
       "      <td>0.075747</td>\n",
       "    </tr>\n",
       "    <tr>\n",
       "      <th>...</th>\n",
       "      <td>...</td>\n",
       "      <td>...</td>\n",
       "    </tr>\n",
       "    <tr>\n",
       "      <th>1995</th>\n",
       "      <td>1995</td>\n",
       "      <td>1.004500</td>\n",
       "    </tr>\n",
       "    <tr>\n",
       "      <th>1996</th>\n",
       "      <td>1996</td>\n",
       "      <td>1.000500</td>\n",
       "    </tr>\n",
       "    <tr>\n",
       "      <th>1997</th>\n",
       "      <td>1997</td>\n",
       "      <td>0.994840</td>\n",
       "    </tr>\n",
       "    <tr>\n",
       "      <th>1998</th>\n",
       "      <td>1998</td>\n",
       "      <td>1.008500</td>\n",
       "    </tr>\n",
       "    <tr>\n",
       "      <th>1999</th>\n",
       "      <td>1999</td>\n",
       "      <td>0.990270</td>\n",
       "    </tr>\n",
       "  </tbody>\n",
       "</table>\n",
       "<p>2000 rows × 2 columns</p>\n",
       "</div>"
      ],
      "text/plain": [
       "       Efs     Veloc\n",
       "0        0  0.011220\n",
       "1        1  0.054619\n",
       "2        2  0.041544\n",
       "3        3  0.083891\n",
       "4        4  0.075747\n",
       "...    ...       ...\n",
       "1995  1995  1.004500\n",
       "1996  1996  1.000500\n",
       "1997  1997  0.994840\n",
       "1998  1998  1.008500\n",
       "1999  1999  0.990270\n",
       "\n",
       "[2000 rows x 2 columns]"
      ]
     },
     "execution_count": 114,
     "metadata": {},
     "output_type": "execute_result"
    }
   ],
   "source": [
    "Veloc = []\n",
    "n = wave1disp249.size\n",
    "for linha in range(len(wave1disp249['VelCol1'])):\n",
    "    for label in wave1disp249:\n",
    "        Veloc.append(wave1disp249[label][linha])\n",
    "Efs = np.arange(0,n)\n",
    "df_final = pd.DataFrame({ 'Efs' :pd.Series(Efs) , 'Veloc' : pd.Series(Veloc) })\n",
    "df_final"
   ]
  },
  {
   "cell_type": "code",
   "execution_count": 115,
   "metadata": {},
   "outputs": [
    {
     "data": {
      "text/plain": [
       "[<matplotlib.lines.Line2D at 0x1d9dc61ad10>]"
      ]
     },
     "execution_count": 115,
     "metadata": {},
     "output_type": "execute_result"
    },
    {
     "data": {
      "image/png": "[encoded data removed]",
      "text/plain": [
       "<Figure size 640x480 with 1 Axes>"
      ]
     },
     "metadata": {},
     "output_type": "display_data"
    }
   ],
   "source": [
    "plt.plot(df_final['Efs'], df_final['Veloc'] )"
   ]
  },
  {
   "cell_type": "code",
   "execution_count": null,
   "metadata": {},
   "outputs": [],
   "source": []
  },
  {
   "cell_type": "code",
   "execution_count": null,
   "metadata": {},
   "outputs": [],
   "source": []
  }
 ],
 "metadata": {
  "kernelspec": {
   "display_name": "Python 3.11.0 64-bit",
   "language": "python",
   "name": "python3"
  },
  "language_info": {
   "codemirror_mode": {
    "name": "ipython",
    "version": 3
   },
   "file_extension": ".py",
   "mimetype": "text/x-python",
   "name": "python",
   "nbconvert_exporter": "python",
   "pygments_lexer": "ipython3",
   "version": "3.11.0"
  },
  "orig_nbformat": 4,
  "vscode": {
   "interpreter": {
    "hash": "f6ea6b088ec985dec2671f5fab4ed691e40e6253e9919b3f8f32cdc38f0f3551"
   }
  }
 },
 "nbformat": 4,
 "nbformat_minor": 2
}
